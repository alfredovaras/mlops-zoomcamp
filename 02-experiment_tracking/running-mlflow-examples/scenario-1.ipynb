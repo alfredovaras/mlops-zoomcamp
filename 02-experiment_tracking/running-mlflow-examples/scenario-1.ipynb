{
 "cells": [
  {
   "cell_type": "markdown",
   "metadata": {},
   "source": [
    "## Scenario 1: A single data scientist participating in an ML competition\n",
    "MLflow setup:\n",
    "\n",
    "- Tracking server: no\n",
    "- Backend store: local filesystem\n",
    "- Artifacts store: local filesystem\n",
    "\n",
    "The experiments can be explored locally by launching the MLflow UI.\n",
    "\n"
   ]
  },
  {
   "cell_type": "code",
   "execution_count": 1,
   "metadata": {},
   "outputs": [],
   "source": [
    "import mlflow\n",
    "from mlflow.tracking import MlflowClient"
   ]
  },
  {
   "cell_type": "code",
   "execution_count": 3,
   "metadata": {},
   "outputs": [
    {
     "name": "stdout",
     "output_type": "stream",
     "text": [
      "tracking URI: 'file:///Users/luisvaras/code/zoomcamp/mlops-zoomcamp/02-experiment_tracking/running-mlflow-examples/mlruns'\n"
     ]
    }
   ],
   "source": [
    "print(f\"tracking URI: '{mlflow.get_tracking_uri()}'\")"
   ]
  },
  {
   "cell_type": "code",
   "execution_count": 4,
   "metadata": {},
   "outputs": [
    {
     "name": "stdout",
     "output_type": "stream",
     "text": [
      "experiments: [<Experiment: artifact_location='file:///Users/luisvaras/code/zoomcamp/mlops-zoomcamp/02-experiment_tracking/running-mlflow-examples/mlruns/0', creation_time=1737770089618, experiment_id='0', last_update_time=1737770089618, lifecycle_stage='active', name='Default', tags={}>]\n"
     ]
    }
   ],
   "source": [
    "client = MlflowClient()\n",
    "\n",
    "experiments = client.search_experiments()\n",
    "print(f\"experiments: {experiments}\")"
   ]
  },
  {
   "cell_type": "markdown",
   "metadata": {},
   "source": [
    "### Creating an experiment and logging a new run\n"
   ]
  },
  {
   "cell_type": "code",
   "execution_count": 5,
   "metadata": {},
   "outputs": [
    {
     "data": {
      "text/plain": [
       "<Experiment: artifact_location='file:///Users/luisvaras/code/zoomcamp/mlops-zoomcamp/02-experiment_tracking/running-mlflow-examples/mlruns/573603214355802727', creation_time=1737770112783, experiment_id='573603214355802727', last_update_time=1737770112783, lifecycle_stage='active', name='my-experiment-1', tags={}>"
      ]
     },
     "execution_count": 5,
     "metadata": {},
     "output_type": "execute_result"
    }
   ],
   "source": [
    "from sklearn.linear_model import LogisticRegression\n",
    "from sklearn.datasets import load_iris\n",
    "from sklearn.metrics import accuracy_score\n",
    "\n",
    "experiment_name = \"my-experiment-1\"\n",
    "\n",
    "experiment = client.get_experiment_by_name(experiment_name)\n",
    "\n",
    "if experiment is None:\n",
    "    experiment_id = client.create_experiment(experiment_name)\n",
    "else:\n",
    "    experiment_id = experiment.experiment_id\n",
    "\n",
    "mlflow.set_experiment(experiment_name)"
   ]
  },
  {
   "cell_type": "code",
   "execution_count": 9,
   "metadata": {},
   "outputs": [
    {
     "name": "stderr",
     "output_type": "stream",
     "text": [
      "\u001b[31m2025/01/24 22:57:38 WARNING mlflow.models.model: Model logged without a signature and input example. Please set `input_example` parameter when logging the model to auto infer the model signature.\u001b[0m\n"
     ]
    },
    {
     "name": "stdout",
     "output_type": "stream",
     "text": [
      "default artifacts URI: 'file:///Users/luisvaras/code/zoomcamp/mlops-zoomcamp/02-experiment_tracking/running-mlflow-examples/mlruns/573603214355802727/2e113098a70c436a808f4bfcfede0838/artifacts'\n"
     ]
    }
   ],
   "source": [
    "with mlflow.start_run():\n",
    "\n",
    "    X, y = load_iris(return_X_y=True)\n",
    "\n",
    "    params = {\"C\": 0.1, \"random_state\": 42}\n",
    "    mlflow.log_params(params)\n",
    "\n",
    "    lr = LogisticRegression(**params).fit(X, y)\n",
    "    y_pred = lr.predict(X)\n",
    "    mlflow.log_metric(\"accuracy\", accuracy_score(y, y_pred))\n",
    "\n",
    "    mlflow.sklearn.log_model(lr, artifact_path=\"models\")\n",
    "    print(f\"default artifacts URI: '{mlflow.get_artifact_uri()}'\")"
   ]
  },
  {
   "cell_type": "code",
   "execution_count": 10,
   "metadata": {},
   "outputs": [
    {
     "name": "stdout",
     "output_type": "stream",
     "text": [
      "experiments: [<Experiment: artifact_location='file:///Users/luisvaras/code/zoomcamp/mlops-zoomcamp/02-experiment_tracking/running-mlflow-examples/mlruns/573603214355802727', creation_time=1737770112783, experiment_id='573603214355802727', last_update_time=1737770112783, lifecycle_stage='active', name='my-experiment-1', tags={}>, <Experiment: artifact_location='file:///Users/luisvaras/code/zoomcamp/mlops-zoomcamp/02-experiment_tracking/running-mlflow-examples/mlruns/0', creation_time=1737770089618, experiment_id='0', last_update_time=1737770089618, lifecycle_stage='active', name='Default', tags={}>]\n"
     ]
    }
   ],
   "source": [
    "# list experiments\n",
    "experiments = client.search_experiments()\n",
    "print(f\"experiments: {experiments}\")"
   ]
  },
  {
   "cell_type": "markdown",
   "metadata": {},
   "source": [
    "### Interacting with the model registry"
   ]
  },
  {
   "cell_type": "code",
   "execution_count": 11,
   "metadata": {},
   "outputs": [],
   "source": [
    "from mlflow.exceptions import MlflowException\n",
    "\n",
    "client = MlflowClient()\n",
    "try:\n",
    "    client.search_registered_models()\n",
    "except MlflowException as e:\n",
    "    print(\"It's not possible to access the model regitry\")"
   ]
  },
  {
   "cell_type": "markdown",
   "metadata": {},
   "source": []
  }
 ],
 "metadata": {
  "kernelspec": {
   "display_name": "exp-tracking-env",
   "language": "python",
   "name": "python3"
  },
  "language_info": {
   "codemirror_mode": {
    "name": "ipython",
    "version": 3
   },
   "file_extension": ".py",
   "mimetype": "text/x-python",
   "name": "python",
   "nbconvert_exporter": "python",
   "pygments_lexer": "ipython3",
   "version": "3.9.17"
  }
 },
 "nbformat": 4,
 "nbformat_minor": 2
}
