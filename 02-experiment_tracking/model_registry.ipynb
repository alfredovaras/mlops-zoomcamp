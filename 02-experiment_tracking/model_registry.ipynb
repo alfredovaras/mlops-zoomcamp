{
 "cells": [
  {
   "cell_type": "code",
   "execution_count": 71,
   "metadata": {},
   "outputs": [],
   "source": [
    "from mlflow.tracking import MlflowClient"
   ]
  },
  {
   "cell_type": "code",
   "execution_count": 40,
   "metadata": {},
   "outputs": [],
   "source": [
    "MLFLOW_TRACKING_URI = \"sqlite:///mlflow.db\"\n",
    "\n",
    "client = MlflowClient(tracking_uri=MLFLOW_TRACKING_URI)"
   ]
  },
  {
   "cell_type": "code",
   "execution_count": 72,
   "metadata": {},
   "outputs": [
    {
     "name": "stdout",
     "output_type": "stream",
     "text": [
      "[<Experiment: artifact_location='/Users/luisvaras/code/zoomcamp/mlops-zoomcamp/03-training/experiment_tracking/mlruns/2', creation_time=1735696146213, experiment_id='2', last_update_time=1735696146213, lifecycle_stage='active', name='my-cool-experiment', tags={}>, <Experiment: artifact_location='/Users/luisvaras/code/zoomcamp/mlops-zoomcamp/03-training/experiment_tracking/mlruns/1', creation_time=1735159898745, experiment_id='1', last_update_time=1735159898745, lifecycle_stage='active', name='nyc-taxi-experiment', tags={}>, <Experiment: artifact_location='mlflow-artifacts:/0', creation_time=1735154853504, experiment_id='0', last_update_time=1735154853504, lifecycle_stage='active', name='Default', tags={}>]\n"
     ]
    }
   ],
   "source": [
    "## Listing all experiments\n",
    "all_experiments = client.search_experiments() ##list_experiments() deprecated\n",
    "print(all_experiments)"
   ]
  },
  {
   "cell_type": "code",
   "execution_count": 74,
   "metadata": {},
   "outputs": [
    {
     "data": {
      "text/plain": [
       "'3'"
      ]
     },
     "execution_count": 74,
     "metadata": {},
     "output_type": "execute_result"
    }
   ],
   "source": [
    "## Creating a new experiment\n",
    "client.create_experiment(name=\"my-cool-experiment-2\")"
   ]
  },
  {
   "cell_type": "code",
   "execution_count": 75,
   "metadata": {},
   "outputs": [],
   "source": [
    "from mlflow.entities import ViewType\n",
    "\n",
    "## Listing the first 10 runs in the experiment with id 1\n",
    "runs = client.search_runs(\n",
    "    experiment_ids=\"1\",\n",
    "    filter_string=\"metrics.rmse < 7\",\n",
    "    run_view_type=ViewType.ACTIVE_ONLY,\n",
    "    max_results=10,\n",
    "    order_by=[\"metrics.rmse ASC\"]\n",
    "    )\n"
   ]
  },
  {
   "cell_type": "code",
   "execution_count": 76,
   "metadata": {},
   "outputs": [
    {
     "data": {
      "text/plain": [
       "[<Run: data=<RunData: metrics={'rmse': 6.328857455927513}, params={'learning_rate': '0.5007497542674484',\n",
       "  'max_depth': '69',\n",
       "  'min_child_weight': '1.593971756791148',\n",
       "  'objective': 'reg:linear',\n",
       "  'reg_alpha': '0.05449929909264596',\n",
       "  'reg_lambda': '0.34077893742416615',\n",
       "  'seed': '42'}, tags={'mlflow.log-model.history': '[{\"run_id\": \"b4e5d303ed394f9ebceb9db15ca3a4d2\", '\n",
       "                              '\"artifact_path\": \"models_mlflow\", '\n",
       "                              '\"utc_time_created\": \"2024-12-26 '\n",
       "                              '01:14:27.968959\", \"model_uuid\": '\n",
       "                              '\"49146fd018924ce582f76a819ef4d93b\", \"flavors\": '\n",
       "                              '{\"python_function\": {\"loader_module\": '\n",
       "                              '\"mlflow.xgboost\", \"python_version\": \"3.9.17\", '\n",
       "                              '\"data\": \"model.xgb\", \"env\": {\"conda\": '\n",
       "                              '\"conda.yaml\", \"virtualenv\": \"python_env.yaml\"}}, '\n",
       "                              '\"xgboost\": {\"xgb_version\": \"2.1.3\", \"data\": '\n",
       "                              '\"model.xgb\", \"model_class\": '\n",
       "                              '\"xgboost.core.Booster\", \"model_format\": \"xgb\", '\n",
       "                              '\"code\": null}}}]',\n",
       "  'mlflow.runName': 'thundering-skunk-673',\n",
       "  'mlflow.source.name': '/Users/luisvaras/.pyenv/versions/3.9/envs/exp-tracking-env/lib/python3.9/site-packages/ipykernel_launcher.py',\n",
       "  'mlflow.source.type': 'LOCAL',\n",
       "  'mlflow.user': 'luisvaras'}>, info=<RunInfo: artifact_uri='/Users/luisvaras/code/zoomcamp/mlops-zoomcamp/03-training/experiment_tracking/mlruns/1/b4e5d303ed394f9ebceb9db15ca3a4d2/artifacts', end_time=1735175688985, experiment_id='1', lifecycle_stage='active', run_id='b4e5d303ed394f9ebceb9db15ca3a4d2', run_name='thundering-skunk-673', run_uuid='b4e5d303ed394f9ebceb9db15ca3a4d2', start_time=1735175626307, status='FINISHED', user_id='luisvaras'>, inputs=<RunInputs: dataset_inputs=[]>>,\n",
       " <Run: data=<RunData: metrics={'best_iteration': 88.0,\n",
       "  'rmse': 6.328857455927513,\n",
       "  'stopped_iteration': 137.0,\n",
       "  'validation-rmse': 6.320780718910893}, params={'custom_metric': 'None',\n",
       "  'early_stopping_rounds': '50',\n",
       "  'learning_rate': '0.5007497542674484',\n",
       "  'max_depth': '69',\n",
       "  'maximize': 'None',\n",
       "  'min_child_weight': '1.593971756791148',\n",
       "  'num_boost_round': '1000',\n",
       "  'objective': 'reg:linear',\n",
       "  'reg_alpha': '0.05449929909264596',\n",
       "  'reg_lambda': '0.34077893742416615',\n",
       "  'seed': '42',\n",
       "  'verbose_eval': 'True'}, tags={'mlflow.log-model.history': '[{\"run_id\": \"be8a424e727a4c5e8ae0a5568a8137fa\", '\n",
       "                              '\"artifact_path\": \"model\", \"utc_time_created\": '\n",
       "                              '\"2024-12-26 01:02:55.928081\", \"model_uuid\": '\n",
       "                              '\"c16185c2c923410c87a048055a0f09cf\", \"flavors\": '\n",
       "                              '{\"python_function\": {\"loader_module\": '\n",
       "                              '\"mlflow.xgboost\", \"python_version\": \"3.9.17\", '\n",
       "                              '\"data\": \"model.xgb\", \"env\": {\"conda\": '\n",
       "                              '\"conda.yaml\", \"virtualenv\": \"python_env.yaml\"}}, '\n",
       "                              '\"xgboost\": {\"xgb_version\": \"2.1.3\", \"data\": '\n",
       "                              '\"model.xgb\", \"model_class\": '\n",
       "                              '\"xgboost.core.Booster\", \"model_format\": \"xgb\", '\n",
       "                              '\"code\": null}}}, {\"run_id\": '\n",
       "                              '\"be8a424e727a4c5e8ae0a5568a8137fa\", '\n",
       "                              '\"artifact_path\": \"models_mlflow\", '\n",
       "                              '\"utc_time_created\": \"2024-12-26 '\n",
       "                              '01:03:28.342484\", \"model_uuid\": '\n",
       "                              '\"3b3fb95687c24578bb27ce497c19ebc5\", \"flavors\": '\n",
       "                              '{\"python_function\": {\"loader_module\": '\n",
       "                              '\"mlflow.xgboost\", \"python_version\": \"3.9.17\", '\n",
       "                              '\"data\": \"model.xgb\", \"env\": {\"conda\": '\n",
       "                              '\"conda.yaml\", \"virtualenv\": \"python_env.yaml\"}}, '\n",
       "                              '\"xgboost\": {\"xgb_version\": \"2.1.3\", \"data\": '\n",
       "                              '\"model.xgb\", \"model_class\": '\n",
       "                              '\"xgboost.core.Booster\", \"model_format\": \"xgb\", '\n",
       "                              '\"code\": null}}}]',\n",
       "  'mlflow.runName': 'wistful-quail-614',\n",
       "  'mlflow.source.name': '/Users/luisvaras/.pyenv/versions/3.9/envs/exp-tracking-env/lib/python3.9/site-packages/ipykernel_launcher.py',\n",
       "  'mlflow.source.type': 'LOCAL',\n",
       "  'mlflow.user': 'luisvaras'}>, info=<RunInfo: artifact_uri='/Users/luisvaras/code/zoomcamp/mlops-zoomcamp/03-training/experiment_tracking/mlruns/1/be8a424e727a4c5e8ae0a5568a8137fa/artifacts', end_time=1735175027304, experiment_id='1', lifecycle_stage='active', run_id='be8a424e727a4c5e8ae0a5568a8137fa', run_name='wistful-quail-614', run_uuid='be8a424e727a4c5e8ae0a5568a8137fa', start_time=1735174522501, status='FINISHED', user_id='luisvaras'>, inputs=<RunInputs: dataset_inputs=[<DatasetInput: dataset=<Dataset: digest='4c74e29a', name='dataset', profile=('{\"features_shape\": [73908, 13221], \"features_size\": 977137668, '\n",
       "  '\"features_nbytes\": 3908550672}'), schema=('{\"mlflow_tensorspec\": {\"features\": \"[{\\\\\"type\\\\\": \\\\\"tensor\\\\\", '\n",
       "  '\\\\\"tensor-spec\\\\\": {\\\\\"dtype\\\\\": \\\\\"float32\\\\\", \\\\\"shape\\\\\": [-1, '\n",
       "  '13221]}}]\", \"targets\": null}}'), source=('{\"tags\": {\"mlflow.user\": \"luisvaras\", \"mlflow.source.name\": '\n",
       "  '\"/Users/luisvaras/.pyenv/versions/3.9/envs/exp-tracking-env/lib/python3.9/site-packages/ipykernel_launcher.py\", '\n",
       "  '\"mlflow.source.type\": \"LOCAL\"}}'), source_type='code'>, tags=[<InputTag: key='mlflow.data.context', value='train'>]>,\n",
       "  <DatasetInput: dataset=<Dataset: digest='0f5f0969', name='validation', profile=('{\"features_shape\": [61921, 13221], \"features_size\": 818657541, '\n",
       "  '\"features_nbytes\": 3274630164}'), schema=('{\"mlflow_tensorspec\": {\"features\": \"[{\\\\\"type\\\\\": \\\\\"tensor\\\\\", '\n",
       "  '\\\\\"tensor-spec\\\\\": {\\\\\"dtype\\\\\": \\\\\"float32\\\\\", \\\\\"shape\\\\\": [-1, '\n",
       "  '13221]}}]\", \"targets\": null}}'), source=('{\"tags\": {\"mlflow.user\": \"luisvaras\", \"mlflow.source.name\": '\n",
       "  '\"/Users/luisvaras/.pyenv/versions/3.9/envs/exp-tracking-env/lib/python3.9/site-packages/ipykernel_launcher.py\", '\n",
       "  '\"mlflow.source.type\": \"LOCAL\"}}'), source_type='code'>, tags=[<InputTag: key='mlflow.data.context', value='eval'>]>]>>,\n",
       " <Run: data=<RunData: metrics={'rmse': 6.328857455927513}, params={'learning_rate': '0.5007497542674484',\n",
       "  'max_depth': '69',\n",
       "  'min_child_weight': '1.593971756791148',\n",
       "  'objective': 'reg:linear',\n",
       "  'reg_alpha': '0.05449929909264596',\n",
       "  'reg_lambda': '0.34077893742416615',\n",
       "  'seed': '42'}, tags={'mlflow.runName': 'judicious-newt-123',\n",
       "  'mlflow.source.name': '/Users/luisvaras/.pyenv/versions/3.9/envs/exp-tracking-env/lib/python3.9/site-packages/ipykernel_launcher.py',\n",
       "  'mlflow.source.type': 'LOCAL',\n",
       "  'mlflow.user': 'luisvaras',\n",
       "  'model': 'xgboost'}>, info=<RunInfo: artifact_uri='/Users/luisvaras/code/zoomcamp/mlops-zoomcamp/03-training/experiment_tracking/mlruns/1/c8a84f63d95c43ce99e751622d99183e/artifacts', end_time=1735170196834, experiment_id='1', lifecycle_stage='active', run_id='c8a84f63d95c43ce99e751622d99183e', run_name='judicious-newt-123', run_uuid='c8a84f63d95c43ce99e751622d99183e', start_time=1735170177051, status='FINISHED', user_id='luisvaras'>, inputs=<RunInputs: dataset_inputs=[]>>,\n",
       " <Run: data=<RunData: metrics={'rmse': 6.386604877152158}, params={'learning_rate': '0.06553351545331187',\n",
       "  'max_depth': '53',\n",
       "  'min_child_weight': '4.884246449416586',\n",
       "  'objective': 'reg:linear',\n",
       "  'reg_alpha': '0.10912181859667656',\n",
       "  'reg_lambda': '0.04089791910211014',\n",
       "  'seed': '42'}, tags={'mlflow.runName': 'rogue-turtle-147',\n",
       "  'mlflow.source.name': '/Users/luisvaras/.pyenv/versions/3.9/envs/exp-tracking-env/lib/python3.9/site-packages/ipykernel_launcher.py',\n",
       "  'mlflow.source.type': 'LOCAL',\n",
       "  'mlflow.user': 'luisvaras',\n",
       "  'model': 'xgboost'}>, info=<RunInfo: artifact_uri='/Users/luisvaras/code/zoomcamp/mlops-zoomcamp/03-training/experiment_tracking/mlruns/1/b2f14614a00547af906c762e72e0d820/artifacts', end_time=1735171164758, experiment_id='1', lifecycle_stage='active', run_id='b2f14614a00547af906c762e72e0d820', run_name='rogue-turtle-147', run_uuid='b2f14614a00547af906c762e72e0d820', start_time=1735170332495, status='FINISHED', user_id='luisvaras'>, inputs=<RunInputs: dataset_inputs=[]>>,\n",
       " <Run: data=<RunData: metrics={'rmse': 6.460555867458369}, params={'learning_rate': '0.0805797067037283',\n",
       "  'max_depth': '21',\n",
       "  'min_child_weight': '6.103251242852138',\n",
       "  'objective': 'reg:linear',\n",
       "  'reg_alpha': '0.05861944365572456',\n",
       "  'reg_lambda': '0.0026992235316563363',\n",
       "  'seed': '42'}, tags={'mlflow.runName': 'luminous-foal-423',\n",
       "  'mlflow.source.name': '/Users/luisvaras/.pyenv/versions/3.9/envs/exp-tracking-env/lib/python3.9/site-packages/ipykernel_launcher.py',\n",
       "  'mlflow.source.type': 'LOCAL',\n",
       "  'mlflow.user': 'luisvaras',\n",
       "  'model': 'xgboost'}>, info=<RunInfo: artifact_uri='/Users/luisvaras/code/zoomcamp/mlops-zoomcamp/03-training/experiment_tracking/mlruns/1/920ebe547f8248869e746999ce802127/artifacts', end_time=1735170332445, experiment_id='1', lifecycle_stage='active', run_id='920ebe547f8248869e746999ce802127', run_name='luminous-foal-423', run_uuid='920ebe547f8248869e746999ce802127', start_time=1735170196853, status='FINISHED', user_id='luisvaras'>, inputs=<RunInputs: dataset_inputs=[]>>]"
      ]
     },
     "execution_count": 76,
     "metadata": {},
     "output_type": "execute_result"
    }
   ],
   "source": [
    "runs"
   ]
  },
  {
   "cell_type": "code",
   "execution_count": 77,
   "metadata": {},
   "outputs": [
    {
     "name": "stdout",
     "output_type": "stream",
     "text": [
      "run id: b4e5d303ed394f9ebceb9db15ca3a4d2, rmse: 6.3289\n",
      "run id: be8a424e727a4c5e8ae0a5568a8137fa, rmse: 6.3289\n",
      "run id: c8a84f63d95c43ce99e751622d99183e, rmse: 6.3289\n",
      "run id: b2f14614a00547af906c762e72e0d820, rmse: 6.3866\n",
      "run id: 920ebe547f8248869e746999ce802127, rmse: 6.4606\n"
     ]
    }
   ],
   "source": [
    "for run in runs:\n",
    "    print(f\"run id: {run.info.run_id}, rmse: {run.data.metrics['rmse']:.4f}\")"
   ]
  },
  {
   "cell_type": "markdown",
   "metadata": {},
   "source": [
    "## Promoting Models\n"
   ]
  },
  {
   "cell_type": "code",
   "execution_count": 47,
   "metadata": {},
   "outputs": [],
   "source": [
    "import mlflow\n",
    "\n",
    "mlflow.set_tracking_uri(MLFLOW_TRACKING_URI)"
   ]
  },
  {
   "cell_type": "code",
   "execution_count": 48,
   "metadata": {},
   "outputs": [],
   "source": [
    "## Registering a model\n",
    "run_id = \"c8a84f63d95c43ce99e751622d99183e\"\n",
    "model_uri = f\"runs:/{run_id}/model\"\n"
   ]
  },
  {
   "cell_type": "code",
   "execution_count": 49,
   "metadata": {},
   "outputs": [
    {
     "name": "stderr",
     "output_type": "stream",
     "text": [
      "Registered model 'nyc-taxi-regressor' already exists. Creating a new version of this model...\n",
      "Created version '5' of model 'nyc-taxi-regressor'.\n"
     ]
    },
    {
     "data": {
      "text/plain": [
       "<ModelVersion: aliases=[], creation_timestamp=1735705169234, current_stage='None', description=None, last_updated_timestamp=1735705169234, name='nyc-taxi-regressor', run_id='c8a84f63d95c43ce99e751622d99183e', run_link=None, source='/Users/luisvaras/code/zoomcamp/mlops-zoomcamp/03-training/experiment_tracking/mlruns/1/c8a84f63d95c43ce99e751622d99183e/artifacts/model', status='READY', status_message=None, tags={}, user_id=None, version=5>"
      ]
     },
     "execution_count": 49,
     "metadata": {},
     "output_type": "execute_result"
    }
   ],
   "source": [
    "mlflow.register_model(model_uri=model_uri, name=\"nyc-taxi-regressor\")"
   ]
  },
  {
   "cell_type": "code",
   "execution_count": 79,
   "metadata": {},
   "outputs": [
    {
     "name": "stdout",
     "output_type": "stream",
     "text": [
      " version: 1, stage: Archived\n",
      " version: 2, stage: Production\n",
      " version: 5, stage: None\n",
      " version: 4, stage: Staging\n"
     ]
    },
    {
     "name": "stderr",
     "output_type": "stream",
     "text": [
      "/var/folders/gh/kg8gyll928l3rd7vx7_bqlr80000gn/T/ipykernel_55210/308595338.py:3: FutureWarning: ``mlflow.tracking.client.MlflowClient.get_latest_versions`` is deprecated since 2.9.0. Model registry stages will be removed in a future major release. To learn more about the deprecation of model registry stages, see our migration guide here: https://mlflow.org/docs/latest/model-registry.html#migrating-from-stages\n",
      "  latest_versions = client.get_latest_versions(name=model_name)\n"
     ]
    }
   ],
   "source": [
    "## Getting the latest versions for each stage of the model\n",
    "model_name = \"nyc-taxi-regressor\"\n",
    "latest_versions = client.get_latest_versions(name=model_name)\n",
    "\n",
    "for version in latest_versions:\n",
    "    print(f\" version: {version.version}, stage: {version.current_stage}\")"
   ]
  },
  {
   "cell_type": "code",
   "execution_count": 78,
   "metadata": {},
   "outputs": [
    {
     "name": "stderr",
     "output_type": "stream",
     "text": [
      "/var/folders/gh/kg8gyll928l3rd7vx7_bqlr80000gn/T/ipykernel_55210/1149028073.py:4: FutureWarning: ``mlflow.tracking.client.MlflowClient.transition_model_version_stage`` is deprecated since 2.9.0. Model registry stages will be removed in a future major release. To learn more about the deprecation of model registry stages, see our migration guide here: https://mlflow.org/docs/latest/model-registry.html#migrating-from-stages\n",
      "  client.transition_model_version_stage(\n"
     ]
    },
    {
     "data": {
      "text/plain": [
       "<ModelVersion: aliases=[], creation_timestamp=1735697491402, current_stage='Staging', description='This model version 4 was transitioned to Staging on 2025-01-01', last_updated_timestamp=1737331316229, name='nyc-taxi-regressor', run_id='c8a84f63d95c43ce99e751622d99183e', run_link=None, source='/Users/luisvaras/code/zoomcamp/mlops-zoomcamp/03-training/experiment_tracking/mlruns/1/c8a84f63d95c43ce99e751622d99183e/artifacts/model', status='READY', status_message=None, tags={}, user_id=None, version=4>"
      ]
     },
     "execution_count": 78,
     "metadata": {},
     "output_type": "execute_result"
    }
   ],
   "source": [
    "## Transitioning the model #4 to the staging stage\n",
    "model_version = 4\n",
    "new_stage = \"Staging\"\n",
    "client.transition_model_version_stage(\n",
    "    name=model_name,\n",
    "    version=model_version,\n",
    "    stage=new_stage,\n",
    "    archive_existing_versions=False\n",
    ")"
   ]
  },
  {
   "cell_type": "code",
   "execution_count": 52,
   "metadata": {},
   "outputs": [
    {
     "data": {
      "text/plain": [
       "<ModelVersion: aliases=[], creation_timestamp=1735697491402, current_stage='Staging', description='This model version 4 was transitioned to Staging on 2025-01-01', last_updated_timestamp=1735705181457, name='nyc-taxi-regressor', run_id='c8a84f63d95c43ce99e751622d99183e', run_link=None, source='/Users/luisvaras/code/zoomcamp/mlops-zoomcamp/03-training/experiment_tracking/mlruns/1/c8a84f63d95c43ce99e751622d99183e/artifacts/model', status='READY', status_message=None, tags={}, user_id=None, version=4>"
      ]
     },
     "execution_count": 52,
     "metadata": {},
     "output_type": "execute_result"
    }
   ],
   "source": [
    "from datetime import datetime\n",
    "\n",
    "date = datetime.today().date()\n",
    "\n",
    "client.update_model_version(\n",
    "    name=model_name,\n",
    "    version=model_version,\n",
    "    description=f\"This model version {model_version} was transitioned to {new_stage} on {date}\"\n",
    ")"
   ]
  },
  {
   "cell_type": "markdown",
   "metadata": {},
   "source": [
    "## Comparing versions and selecting the new \"Production\" model"
   ]
  },
  {
   "cell_type": "code",
   "execution_count": 53,
   "metadata": {},
   "outputs": [],
   "source": [
    "from sklearn.metrics import mean_squared_error, root_mean_squared_error\n",
    "import pandas as pd"
   ]
  },
  {
   "cell_type": "code",
   "execution_count": 54,
   "metadata": {},
   "outputs": [],
   "source": [
    "def read_dataframe(filename):\n",
    "    df = pd.read_parquet(filename)\n",
    "\n",
    "    df.lpep_dropoff_datetime = pd.to_datetime(df.lpep_dropoff_datetime)\n",
    "    df.lpep_pickup_datetime = pd.to_datetime(df.lpep_pickup_datetime)\n",
    "\n",
    "    df['duration'] = df.lpep_dropoff_datetime - df.lpep_pickup_datetime\n",
    "    df.duration = df.duration.apply(lambda td: td.total_seconds() / 60)\n",
    "\n",
    "    df = df[(df.duration >= 1) & (df.duration <= 60)]\n",
    "\n",
    "    categorical = ['PULocationID', 'DOLocationID']\n",
    "    df[categorical] = df[categorical].astype(str)\n",
    "\n",
    "    return df\n",
    "\n",
    "\n",
    "def preprocess(df, dv):\n",
    "    df['PU_DO'] = df['PULocationID'] + '_' + df['DOLocationID']\n",
    "    categorical = ['PU_DO']\n",
    "    numerical = ['trip_distance']\n",
    "    train_dicts = df[categorical + numerical].to_dict(orient='records')\n",
    "    return dv.transform(train_dicts)\n",
    "\n",
    "\n",
    "def test_model(name, stage, X_test, y_test):\n",
    "    model = mlflow.pyfunc.load_model(f\"models:/{name}/{stage}\")\n",
    "    y_pred = model.predict(X_test)\n",
    "    return {\"rmse\": root_mean_squared_error(y_test, y_pred)}"
   ]
  },
  {
   "cell_type": "code",
   "execution_count": 55,
   "metadata": {},
   "outputs": [],
   "source": [
    "df = read_dataframe('./data/green_tripdata_2021-03.parquet')"
   ]
  },
  {
   "cell_type": "code",
   "execution_count": 57,
   "metadata": {},
   "outputs": [
    {
     "data": {
      "application/vnd.jupyter.widget-view+json": {
       "model_id": "a932d0dc801546928f830be9202e9fa2",
       "version_major": 2,
       "version_minor": 0
      },
      "text/plain": [
       "Downloading artifacts:   0%|          | 0/1 [00:00<?, ?it/s]"
      ]
     },
     "metadata": {},
     "output_type": "display_data"
    },
    {
     "data": {
      "text/plain": [
       "'/Users/luisvaras/code/zoomcamp/mlops-zoomcamp/03-training/experiment_tracking/preprocessor'"
      ]
     },
     "execution_count": 57,
     "metadata": {},
     "output_type": "execute_result"
    }
   ],
   "source": [
    "## Extracting from run_id to the current directory '.'\n",
    "run_id = \"b4e5d303ed394f9ebceb9db15ca3a4d2\"\n",
    "#run_id = \"c8a84f63d95c43ce99e751622d99183e\"\n",
    "client.download_artifacts(run_id=run_id, path=\"preprocessor\", dst_path='.')"
   ]
  },
  {
   "cell_type": "code",
   "execution_count": 58,
   "metadata": {},
   "outputs": [],
   "source": [
    "import pickle\n",
    "\n",
    "with open(\"preprocessor/preprocessor.b\", \"rb\") as f_in:\n",
    "    dv = pickle.load(f_in)"
   ]
  },
  {
   "cell_type": "code",
   "execution_count": 59,
   "metadata": {},
   "outputs": [],
   "source": [
    "X_test = preprocess(df, dv)"
   ]
  },
  {
   "cell_type": "code",
   "execution_count": 60,
   "metadata": {},
   "outputs": [],
   "source": [
    "target = 'duration'\n",
    "y_test = df[target].values\n"
   ]
  },
  {
   "cell_type": "code",
   "execution_count": 69,
   "metadata": {},
   "outputs": [
    {
     "name": "stderr",
     "output_type": "stream",
     "text": [
      "/Users/luisvaras/.pyenv/versions/3.9/envs/exp-tracking-env/lib/python3.9/site-packages/mlflow/store/artifact/utils/models.py:31: FutureWarning: ``mlflow.tracking.client.MlflowClient.get_latest_versions`` is deprecated since 2.9.0. Model registry stages will be removed in a future major release. To learn more about the deprecation of model registry stages, see our migration guide here: https://mlflow.org/docs/latest/model-registry.html#migrating-from-stages\n",
      "  latest = client.get_latest_versions(name, None if stage is None else [stage])\n"
     ]
    },
    {
     "name": "stdout",
     "output_type": "stream",
     "text": [
      "CPU times: user 5.16 s, sys: 90 ms, total: 5.25 s\n",
      "Wall time: 614 ms\n"
     ]
    },
    {
     "data": {
      "text/plain": [
       "{'rmse': 6.279579187330177}"
      ]
     },
     "execution_count": 69,
     "metadata": {},
     "output_type": "execute_result"
    }
   ],
   "source": [
    "%time test_model(name=model_name, stage=\"Staging\", X_test=X_test, y_test=y_test)"
   ]
  },
  {
   "cell_type": "markdown",
   "metadata": {},
   "source": []
  },
  {
   "cell_type": "code",
   "execution_count": 68,
   "metadata": {},
   "outputs": [
    {
     "name": "stderr",
     "output_type": "stream",
     "text": [
      "/Users/luisvaras/.pyenv/versions/3.9/envs/exp-tracking-env/lib/python3.9/site-packages/mlflow/store/artifact/utils/models.py:31: FutureWarning: ``mlflow.tracking.client.MlflowClient.get_latest_versions`` is deprecated since 2.9.0. Model registry stages will be removed in a future major release. To learn more about the deprecation of model registry stages, see our migration guide here: https://mlflow.org/docs/latest/model-registry.html#migrating-from-stages\n",
      "  latest = client.get_latest_versions(name, None if stage is None else [stage])\n"
     ]
    },
    {
     "name": "stdout",
     "output_type": "stream",
     "text": [
      "CPU times: user 5.42 s, sys: 73.9 ms, total: 5.49 s\n",
      "Wall time: 588 ms\n"
     ]
    },
    {
     "data": {
      "text/plain": [
       "{'rmse': 6.279579187330177}"
      ]
     },
     "execution_count": 68,
     "metadata": {},
     "output_type": "execute_result"
    }
   ],
   "source": [
    "%time test_model(name=model_name, stage=\"Production\", X_test=X_test, y_test=y_test)"
   ]
  },
  {
   "cell_type": "code",
   "execution_count": 70,
   "metadata": {},
   "outputs": [
    {
     "name": "stderr",
     "output_type": "stream",
     "text": [
      "/var/folders/gh/kg8gyll928l3rd7vx7_bqlr80000gn/T/ipykernel_55210/1703833061.py:1: FutureWarning: ``mlflow.tracking.client.MlflowClient.transition_model_version_stage`` is deprecated since 2.9.0. Model registry stages will be removed in a future major release. To learn more about the deprecation of model registry stages, see our migration guide here: https://mlflow.org/docs/latest/model-registry.html#migrating-from-stages\n",
      "  client.transition_model_version_stage(\n"
     ]
    },
    {
     "data": {
      "text/plain": [
       "<ModelVersion: aliases=[], creation_timestamp=1735690585204, current_stage='Production', description='', last_updated_timestamp=1735705790294, name='nyc-taxi-regressor', run_id='be8a424e727a4c5e8ae0a5568a8137fa', run_link='', source='/Users/luisvaras/code/zoomcamp/mlops-zoomcamp/03-training/experiment_tracking/mlruns/1/be8a424e727a4c5e8ae0a5568a8137fa/artifacts/models_mlflow', status='READY', status_message=None, tags={'model': 'xgboost'}, user_id=None, version=2>"
      ]
     },
     "execution_count": 70,
     "metadata": {},
     "output_type": "execute_result"
    }
   ],
   "source": [
    "client.transition_model_version_stage(\n",
    "    name=model_name,\n",
    "    version=2,\n",
    "    stage=\"Production\",\n",
    "    archive_existing_versions=True\n",
    ")"
   ]
  },
  {
   "cell_type": "code",
   "execution_count": null,
   "metadata": {},
   "outputs": [],
   "source": []
  }
 ],
 "metadata": {
  "kernelspec": {
   "display_name": "exp-tracking-env",
   "language": "python",
   "name": "python3"
  },
  "language_info": {
   "codemirror_mode": {
    "name": "ipython",
    "version": 3
   },
   "file_extension": ".py",
   "mimetype": "text/x-python",
   "name": "python",
   "nbconvert_exporter": "python",
   "pygments_lexer": "ipython3",
   "version": "3.9.17"
  }
 },
 "nbformat": 4,
 "nbformat_minor": 2
}
